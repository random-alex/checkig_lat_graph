{
 "cells": [
  {
   "cell_type": "code",
   "execution_count": 1,
   "metadata": {
    "collapsed": true
   },
   "outputs": [],
   "source": [
    "\n",
    "import pyalps\n",
    "import numpy as np\n",
    "import matplotlib.pyplot as plt\n",
    "import pyalps.plot\n"
   ]
  },
  {
   "cell_type": "code",
   "execution_count": 2,
   "metadata": {
    "collapsed": true
   },
   "outputs": [],
   "source": [
    "#prepare the input parameters\n",
    "parms = []\n",
    "for t in [0.1,0.2,0.3,0.4,0.5,0.6,0.7,0.8,0.9,1.0]:\n",
    "    parms.append(\n",
    "            { \n",
    "          'LATTICE'                   : \"square lattice UPD\", \n",
    "          'MODEL'                     : \"spin\",\n",
    "          #'MEASURE[Correlations]'     : True,\n",
    "          #'MEASURE[Structure Factor]' : False, \n",
    "          'LATTICE_LIBRARY'           : '/home/alex/anaconda2/pkgs/alps-2.3.0-py27_blas_openblas_4/lib/xml/my_lattices.xml',\n",
    "          #   'MODEL_LIBRARY'         : 'models.xml',\n",
    "          'local_S'                   : 0.5,\n",
    "          #   'ALGORITHM'             : 'loop',\n",
    "          'T'                         : t,\n",
    "          'J'                         : 1 ,#antiferromagnetic state\n",
    "          'THERMALIZATION'            : 15000,\n",
    "          'SWEEPS'                    : 60000,\n",
    "          'L'                         : 1,#size of lattice\n",
    "          'h'                         : 0,#magnetic field in z direction\n",
    "          'SEED'                      : 0\n",
    "            }\n",
    "    )\n",
    "   \n",
    "    "
   ]
  },
  {
   "cell_type": "code",
   "execution_count": 4,
   "metadata": {},
   "outputs": [
    {
     "name": "stdout",
     "output_type": "stream",
     "text": [
      "dirloop_sse square_lat_UPD.in.xml --write-xml\n"
     ]
    }
   ],
   "source": [
    "\n",
    "#write the input file and run the simulation\n",
    "input_file = pyalps.writeInputFiles('square_lat_UPD',parms)\n",
    "res = pyalps.runApplication('dirloop_sse',input_file,writexml=True)\n"
   ]
  },
  {
   "cell_type": "code",
   "execution_count": null,
   "metadata": {
    "collapsed": true
   },
   "outputs": [],
   "source": []
  }
 ],
 "metadata": {
  "kernelspec": {
   "display_name": "Python 2",
   "language": "python",
   "name": "python2"
  },
  "language_info": {
   "codemirror_mode": {
    "name": "ipython",
    "version": 2
   },
   "file_extension": ".py",
   "mimetype": "text/x-python",
   "name": "python",
   "nbconvert_exporter": "python",
   "pygments_lexer": "ipython2",
   "version": "2.7.14"
  }
 },
 "nbformat": 4,
 "nbformat_minor": 2
}
