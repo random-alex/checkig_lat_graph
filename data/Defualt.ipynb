{
 "cells": [
  {
   "cell_type": "code",
   "execution_count": 4,
   "metadata": {
    "collapsed": true
   },
   "outputs": [],
   "source": [
    "\n",
    "import pyalps\n",
    "import numpy as np\n",
    "import matplotlib.pyplot as plt\n",
    "import pyalps.plot\n"
   ]
  },
  {
   "cell_type": "code",
   "execution_count": 5,
   "metadata": {
    "collapsed": true
   },
   "outputs": [],
   "source": [
    "#prepare the input parameters\n",
    "parms = []\n",
    "for t in [0.1,0.2,0.3,0.4,0.5,0.6,0.7,0.8,0.9,1.0]:\n",
    "    parms.append(\n",
    "            { \n",
    "          'LATTICE'                   : \"open square lattice\", \n",
    "          'MODEL'                     : \"spin\",\n",
    "          #'MEASURE[Correlations]'     : True,\n",
    "          #'MEASURE[Structure Factor]' : False, \n",
    "          'LATTICE_LIBRARY'           : 'lattices.xml',\n",
    "          #   'MODEL_LIBRARY'         : 'models.xml',\n",
    "          'local_S'                   : 0.5,\n",
    "          #   'ALGORITHM'             : 'loop',\n",
    "          'T'                         : t,\n",
    "          'J'                         : 1 ,#antiferromagnetic state\n",
    "          'THERMALIZATION'            : 10000,\n",
    "          'SWEEPS'                    : 40000,\n",
    "          'L'                         : 3,#size of lattice\n",
    "          'h'                         : 0,#magnetic field in z direction\n",
    "          'SEED'                      : 0\n",
    "            }\n",
    "    )\n",
    "   \n",
    "    "
   ]
  },
  {
   "cell_type": "code",
   "execution_count": null,
   "metadata": {},
   "outputs": [
    {
     "name": "stdout",
     "output_type": "stream",
     "text": [
      "dirloop_sse defualt_lat_size4.in.xml --write-xml\n"
     ]
    }
   ],
   "source": [
    "\n",
    "#write the input file and run the simulation\n",
    "input_file = pyalps.writeInputFiles('defualt_lat_size4',parms)\n",
    "res = pyalps.runApplication('dirloop_sse',input_file,writexml=True)\n"
   ]
  },
  {
   "cell_type": "code",
   "execution_count": null,
   "metadata": {
    "collapsed": true
   },
   "outputs": [],
   "source": []
  }
 ],
 "metadata": {
  "kernelspec": {
   "display_name": "Python 2",
   "language": "python",
   "name": "python2"
  },
  "language_info": {
   "codemirror_mode": {
    "name": "ipython",
    "version": 2
   },
   "file_extension": ".py",
   "mimetype": "text/x-python",
   "name": "python",
   "nbconvert_exporter": "python",
   "pygments_lexer": "ipython2",
   "version": "2.7.14"
  }
 },
 "nbformat": 4,
 "nbformat_minor": 2
}
